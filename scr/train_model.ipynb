{
  "nbformat": 4,
  "nbformat_minor": 0,
  "metadata": {
    "kernelspec": {
      "display_name": "Python 3",
      "language": "python",
      "name": "python3"
    },
    "language_info": {
      "codemirror_mode": {
        "name": "ipython",
        "version": 2
      },
      "file_extension": ".py",
      "mimetype": "text/x-python",
      "name": "python",
      "nbconvert_exporter": "python",
      "pygments_lexer": "ipython2",
      "version": "2.7.6"
    },
    "colab": {
      "name": "train_model.ipynb",
      "provenance": [],
      "collapsed_sections": []
    },
    "accelerator": "GPU"
  },
  "cells": [
    {
      "cell_type": "code",
      "metadata": {
        "colab": {
          "base_uri": "https://localhost:8080/"
        },
        "id": "pbESW0XXFzsN",
        "outputId": "32c09006-2efd-4f52-fe9c-6aea5702a62f"
      },
      "source": [
        "## Mount google drive - Click on the link and give authorization\n",
        "from google.colab import drive\n",
        "\n",
        "drive.mount('/content/drive')"
      ],
      "execution_count": null,
      "outputs": [
        {
          "output_type": "stream",
          "text": [
            "Mounted at /content/drive\n"
          ],
          "name": "stdout"
        }
      ]
    },
    {
      "cell_type": "code",
      "metadata": {
        "colab": {
          "base_uri": "https://localhost:8080/"
        },
        "id": "rYJUOYFnMwJU",
        "outputId": "96a3373d-8e78-4a32-82a5-707b42f07492"
      },
      "source": [
        "!pip install selenium"
      ],
      "execution_count": null,
      "outputs": [
        {
          "output_type": "stream",
          "text": [
            "Collecting selenium\n",
            "\u001b[?25l  Downloading https://files.pythonhosted.org/packages/80/d6/4294f0b4bce4de0abf13e17190289f9d0613b0a44e5dd6a7f5ca98459853/selenium-3.141.0-py2.py3-none-any.whl (904kB)\n",
            "\u001b[K     |████████████████████████████████| 911kB 6.6MB/s \n",
            "\u001b[?25hRequirement already satisfied: urllib3 in /usr/local/lib/python3.7/dist-packages (from selenium) (1.24.3)\n",
            "Installing collected packages: selenium\n",
            "Successfully installed selenium-3.141.0\n"
          ],
          "name": "stdout"
        }
      ]
    },
    {
      "cell_type": "code",
      "metadata": {
        "id": "WyJyxTJYJXfj"
      },
      "source": [
        "import sys\n",
        "import os"
      ],
      "execution_count": null,
      "outputs": []
    },
    {
      "cell_type": "code",
      "metadata": {
        "colab": {
          "base_uri": "https://localhost:8080/"
        },
        "id": "Fev42BZlK4tB",
        "outputId": "771ad904-e997-486d-bdef-6b6274b72100"
      },
      "source": [
        "projDir = '/content/drive/MyDrive/github_projects/'\n",
        "\n",
        "if not os.path.exists(projDir):\n",
        "  os.makedirs(projDir)\n",
        "\n",
        "%cd $projDir\n",
        "%ls"
      ],
      "execution_count": null,
      "outputs": [
        {
          "output_type": "stream",
          "text": [
            "/content/drive/MyDrive/github_projects\n",
            "\u001b[0m\u001b[01;34mairbnb_seatle\u001b[0m/  \u001b[01;34mapp\u001b[0m/  \u001b[01;34mminiconda\u001b[0m/  README.md\n"
          ],
          "name": "stdout"
        }
      ]
    },
    {
      "cell_type": "code",
      "metadata": {
        "collapsed": true,
        "id": "uDwrgU6j-eww",
        "colab": {
          "base_uri": "https://localhost:8080/"
        },
        "outputId": "025363ad-df5f-4657-fb18-2d851d24754a"
      },
      "source": [
        "!git init .\n",
        "!git clone https://github.com/oliveirampo/dog_breed_classification.git\n"
      ],
      "execution_count": null,
      "outputs": [
        {
          "output_type": "stream",
          "text": [
            "Reinitialized existing Git repository in /content/drive/MyDrive/github_projects/.git/\n",
            "Cloning into 'dog_breed_classification'...\n",
            "remote: Enumerating objects: 138, done.\u001b[K\n",
            "remote: Counting objects: 100% (41/41), done.\u001b[K\n",
            "remote: Compressing objects: 100% (25/25), done.\u001b[K\n",
            "remote: Total 138 (delta 18), reused 38 (delta 16), pack-reused 97\u001b[K\n",
            "Receiving objects: 100% (138/138), 695.08 MiB | 23.51 MiB/s, done.\n",
            "Resolving deltas: 100% (40/40), done.\n",
            "Checking out files: 100% (29/29), done.\n"
          ],
          "name": "stdout"
        }
      ]
    },
    {
      "cell_type": "code",
      "metadata": {
        "colab": {
          "base_uri": "https://localhost:8080/"
        },
        "id": "-RLe4fr_Fawu",
        "outputId": "8b8c648f-76a7-4160-e4c3-b12408a804eb"
      },
      "source": [
        "!git pull https://github.com/oliveirampo/dog_breed_classification.git"
      ],
      "execution_count": null,
      "outputs": [
        {
          "output_type": "stream",
          "text": [
            "remote: Enumerating objects: 6, done.\u001b[K\n",
            "remote: Counting objects:  16% (1/6)\u001b[K\rremote: Counting objects:  33% (2/6)\u001b[K\rremote: Counting objects:  50% (3/6)\u001b[K\rremote: Counting objects:  66% (4/6)\u001b[K\rremote: Counting objects:  83% (5/6)\u001b[K\rremote: Counting objects: 100% (6/6)\u001b[K\rremote: Counting objects: 100% (6/6), done.\u001b[K\n",
            "remote: Compressing objects:  25% (1/4)\u001b[K\rremote: Compressing objects:  50% (2/4)\u001b[K\rremote: Compressing objects:  75% (3/4)\u001b[K\rremote: Compressing objects: 100% (4/4)\u001b[K\rremote: Compressing objects: 100% (4/4), done.\u001b[K\n",
            "remote: Total 6 (delta 2), reused 6 (delta 2), pack-reused 0\u001b[K\n",
            "Unpacking objects:  16% (1/6)   \rUnpacking objects:  33% (2/6)   \rUnpacking objects:  50% (3/6)   \rUnpacking objects:  66% (4/6)   \rUnpacking objects:  83% (5/6)   \rUnpacking objects: 100% (6/6)   \rUnpacking objects: 100% (6/6), done.\n",
            "From https://github.com/oliveirampo/dog_breed_classification\n",
            " * branch            HEAD       -> FETCH_HEAD\n",
            "Updating 5d09962..2f29cdb\n",
            "Fast-forward\n",
            " app/data/inp/categories.json | 1 \u001b[32m+\u001b[m\n",
            " 1 file changed, 1 insertion(+)\n",
            " create mode 100644 app/data/inp/categories.json\n"
          ],
          "name": "stdout"
        }
      ]
    },
    {
      "cell_type": "code",
      "metadata": {
        "colab": {
          "base_uri": "https://localhost:8080/"
        },
        "id": "M8zT_L31AkPh",
        "outputId": "2ece4424-f96b-4745-9f35-28a672192caa"
      },
      "source": [
        "scrDir = projDir + 'dog_breed_classification/app/scr'\n",
        "%cd $scrDir\n",
        "%ls"
      ],
      "execution_count": null,
      "outputs": [
        {
          "output_type": "stream",
          "text": [
            "/content/drive/MyDrive/github_projects/dog_breed_classification/app/scr\n",
            "download_image.py  plot.py       train_model.ipynb\n",
            "__init__.py        \u001b[0m\u001b[01;34m__pycache__\u001b[0m/  train_model.py\n"
          ],
          "name": "stdout"
        }
      ]
    },
    {
      "cell_type": "markdown",
      "metadata": {
        "id": "br1zUWNermNZ"
      },
      "source": [
        ""
      ]
    },
    {
      "cell_type": "code",
      "metadata": {
        "id": "mQ0ecozTBQMg"
      },
      "source": [
        "import train_model"
      ],
      "execution_count": null,
      "outputs": []
    },
    {
      "cell_type": "code",
      "metadata": {
        "colab": {
          "base_uri": "https://localhost:8080/"
        },
        "id": "YP5ArZAtNBNp",
        "outputId": "2e0e7412-d084-4735-ab5f-2c916eeb28a9"
      },
      "source": [
        "n_splits = 6\n",
        "dataset_directory = projDir + 'dog_breed_classification/app/data/inp'\n",
        "\n",
        "categories, x_train, x_valid, x_test, train_targets, valid_targets, test_targets = \\\n",
        "train_model.load_compressed_dataset(n_splits, dataset_directory)\n"
      ],
      "execution_count": null,
      "outputs": [
        {
          "output_type": "stream",
          "text": [
            "Loading compressed data...\n"
          ],
          "name": "stdout"
        }
      ]
    },
    {
      "cell_type": "code",
      "metadata": {
        "id": "mhKoJvD3q02t",
        "colab": {
          "base_uri": "https://localhost:8080/"
        },
        "outputId": "8bb727a1-5be0-4633-c421-54535910e530"
      },
      "source": [
        "print(len(categories))\n",
        "print(x_train.shape)\n",
        "print(train_targets.shape)"
      ],
      "execution_count": null,
      "outputs": [
        {
          "output_type": "stream",
          "text": [
            "114\n",
            "(4920, 224, 224, 3)\n",
            "(4920, 114)\n"
          ],
          "name": "stdout"
        }
      ]
    },
    {
      "cell_type": "code",
      "metadata": {
        "id": "gZLboWInQJ7U"
      },
      "source": [
        "import matplotlib.pyplot as plt\n",
        "\n",
        "from tensorflow.keras.applications.resnet50 import preprocess_input, decode_predictions\n",
        "from tensorflow.keras.applications.vgg16 import VGG16\n",
        "\n",
        "from tensorflow.keras.preprocessing import image\n",
        "\n",
        "from tensorflow.keras.models import load_model\n",
        "from tensorflow.keras.models import Model\n",
        "\n",
        "from keras.layers import GlobalAvgPool2D\n",
        "from keras.layers import Dense, Flatten\n",
        "\n",
        "from tensorflow.keras.optimizers import SGD\n",
        "\n",
        "import numpy as np\n"
      ],
      "execution_count": null,
      "outputs": []
    },
    {
      "cell_type": "code",
      "metadata": {
        "id": "Qmg8teyhSJeY"
      },
      "source": [
        "def train_transfer_learning_vgg(x_train, y_train, x_validation, y_validation):\n",
        "    \"\"\"Fine tune pretrained VGG model.\"\"\"\n",
        "\n",
        "    base_model = VGG16(weights='imagenet', include_top=False)\n",
        "    # print(base_model.summary())\n",
        "\n",
        "    # add a global spatial average pooling layer\n",
        "    x = base_model.output\n",
        "    x = GlobalAvgPool2D()(x)\n",
        "    # let's add a fully-connect layer\n",
        "    x = Dense(1024, activation='relu')(x)\n",
        "    # add a logistic layer -- with correct number of classes\n",
        "    predictions = Dense(y_train.shape[1], activation='softmax')(x)\n",
        "\n",
        "    # this is the model we will train\n",
        "    model = Model(inputs=base_model.input, outputs=predictions)\n",
        "    # print(model.summary())\n",
        "\n",
        "    # first: train only the top layers (which were randomly initialized)\n",
        "    # i.e. freeze all convolutional layers of the model\n",
        "    for layer in base_model.layers:\n",
        "        layer.trainable = False\n",
        "\n",
        "    # compile the model (should be done *after* setting layers to non-trainable)\n",
        "    model.compile(optimizer='rmsprop', loss='categorical_crossentropy', metrics=['accuracy'])\n",
        "\n",
        "    # train the model on the new fata for a few epochs\n",
        "    model.fit(x_train, y_train, epochs=2, validation_data=(x_validation, y_validation), verbose=1, shuffle=True)\n",
        "    # model.fit(train_vgg16, train_targets, epochs=20, validation_data=(valid_vgg16, valid_targets),\n",
        "    #           callbacks=[checkpointer], verbose=1, shuffle=True)\n",
        "\n",
        "    # at this point, the top layers are well trained and we can start fine-tuning\n",
        "    # convolutional layers from vgg16. We will freeze the bottom N layers\n",
        "    # and train the remaining top layers.\n",
        "\n",
        "    # let's visualize layer names and layer indices to see how many layers\n",
        "    # we should freeze:\n",
        "    for i, layer in enumerate(base_model.layers):\n",
        "        print(i, layer.name)\n",
        "\n",
        "    # we chose to train the top 2 inception blocks, i.e. we will freeze\n",
        "    # the first 249 layers and unfreeze the rest:\n",
        "    for layer in model.layers[:15]:\n",
        "        layer.trainable = False\n",
        "    for layer in model.layers[15:]:\n",
        "        layer.trainable = True\n",
        "\n",
        "    # we need to recompile the model for these modifications to take effect\n",
        "    # we use SGD with a low learning rate\n",
        "    model.compile(optimizer=SGD(lr=0.0001, momentum=0.9), loss='categorical_crossentropy', metrics=['accuracy'])\n",
        "\n",
        "    # we train our model again (this time fine-tuning the top 2 inception blocks\n",
        "    # alongside the top Dense layers\n",
        "    history = model.fit(x_train, y_train, epochs=2, validation_data=(x_validation, y_validation), verbose=1, shuffle=True)\n",
        "    \n",
        "    return model, history\n",
        "    "
      ],
      "execution_count": null,
      "outputs": []
    },
    {
      "cell_type": "code",
      "metadata": {
        "id": "BFwwzvTpSN66",
        "colab": {
          "base_uri": "https://localhost:8080/"
        },
        "outputId": "aed6eaee-4241-42a0-c178-43d4d3263b8e"
      },
      "source": [
        "model, history = train_transfer_learning_vgg(x_train, train_targets, x_valid, valid_targets)"
      ],
      "execution_count": null,
      "outputs": [
        {
          "output_type": "stream",
          "text": [
            "Epoch 1/2\n",
            "154/154 [==============================] - 27s 171ms/step - loss: 4.7359 - accuracy: 0.0224 - val_loss: 4.8259 - val_accuracy: 0.0013\n",
            "Epoch 2/2\n",
            "154/154 [==============================] - 26s 169ms/step - loss: 4.1210 - accuracy: 0.0918 - val_loss: 4.4938 - val_accuracy: 0.0474\n",
            "0 input_4\n",
            "1 block1_conv1\n",
            "2 block1_conv2\n",
            "3 block1_pool\n",
            "4 block2_conv1\n",
            "5 block2_conv2\n",
            "6 block2_pool\n",
            "7 block3_conv1\n",
            "8 block3_conv2\n",
            "9 block3_conv3\n",
            "10 block3_pool\n",
            "11 block4_conv1\n",
            "12 block4_conv2\n",
            "13 block4_conv3\n",
            "14 block4_pool\n",
            "15 block5_conv1\n",
            "16 block5_conv2\n",
            "17 block5_conv3\n",
            "18 block5_pool\n",
            "Epoch 1/2\n",
            "154/154 [==============================] - 31s 198ms/step - loss: 3.4269 - accuracy: 0.1927 - val_loss: 4.1822 - val_accuracy: 0.0692\n",
            "Epoch 2/2\n",
            "154/154 [==============================] - 30s 196ms/step - loss: 2.9844 - accuracy: 0.2724 - val_loss: 4.0629 - val_accuracy: 0.0859\n"
          ],
          "name": "stdout"
        }
      ]
    },
    {
      "cell_type": "code",
      "metadata": {
        "colab": {
          "base_uri": "https://localhost:8080/",
          "height": 34
        },
        "id": "_lCQFARTCfCK",
        "outputId": "0405b47e-0d2d-4af0-a351-8d606f8340d6"
      },
      "source": [
        "model_path = projDir + 'dog_breed_classification/app/model'\n",
        "model_path"
      ],
      "execution_count": null,
      "outputs": [
        {
          "output_type": "execute_result",
          "data": {
            "application/vnd.google.colaboratory.intrinsic+json": {
              "type": "string"
            },
            "text/plain": [
              "'/content/drive/MyDrive/github_projects/dog_breed_classification/app/model'"
            ]
          },
          "metadata": {
            "tags": []
          },
          "execution_count": 59
        }
      ]
    },
    {
      "cell_type": "code",
      "metadata": {
        "colab": {
          "base_uri": "https://localhost:8080/"
        },
        "id": "3uf3dPqFCV8j",
        "outputId": "cae912ec-9dfd-44d1-fce7-ca659b6fa78f"
      },
      "source": [
        "model.save(model_path)"
      ],
      "execution_count": null,
      "outputs": [
        {
          "output_type": "stream",
          "text": [
            "INFO:tensorflow:Assets written to: /content/drive/MyDrive/github_projects/dog_breed_classification/app/model/assets\n"
          ],
          "name": "stdout"
        }
      ]
    },
    {
      "cell_type": "code",
      "metadata": {
        "id": "E4dGCkt0SvOR"
      },
      "source": [
        "# reconstruct the trained model\n",
        "model = load_model(model_path)"
      ],
      "execution_count": null,
      "outputs": []
    },
    {
      "cell_type": "code",
      "metadata": {
        "colab": {
          "base_uri": "https://localhost:8080/"
        },
        "id": "edB49Tu7g61S",
        "outputId": "4875426a-dc3c-45d6-d430-695538159bb9"
      },
      "source": [
        "model.summary()"
      ],
      "execution_count": null,
      "outputs": [
        {
          "output_type": "stream",
          "text": [
            "Model: \"model_3\"\n",
            "_________________________________________________________________\n",
            "Layer (type)                 Output Shape              Param #   \n",
            "=================================================================\n",
            "input_4 (InputLayer)         [(None, None, None, 3)]   0         \n",
            "_________________________________________________________________\n",
            "block1_conv1 (Conv2D)        (None, None, None, 64)    1792      \n",
            "_________________________________________________________________\n",
            "block1_conv2 (Conv2D)        (None, None, None, 64)    36928     \n",
            "_________________________________________________________________\n",
            "block1_pool (MaxPooling2D)   (None, None, None, 64)    0         \n",
            "_________________________________________________________________\n",
            "block2_conv1 (Conv2D)        (None, None, None, 128)   73856     \n",
            "_________________________________________________________________\n",
            "block2_conv2 (Conv2D)        (None, None, None, 128)   147584    \n",
            "_________________________________________________________________\n",
            "block2_pool (MaxPooling2D)   (None, None, None, 128)   0         \n",
            "_________________________________________________________________\n",
            "block3_conv1 (Conv2D)        (None, None, None, 256)   295168    \n",
            "_________________________________________________________________\n",
            "block3_conv2 (Conv2D)        (None, None, None, 256)   590080    \n",
            "_________________________________________________________________\n",
            "block3_conv3 (Conv2D)        (None, None, None, 256)   590080    \n",
            "_________________________________________________________________\n",
            "block3_pool (MaxPooling2D)   (None, None, None, 256)   0         \n",
            "_________________________________________________________________\n",
            "block4_conv1 (Conv2D)        (None, None, None, 512)   1180160   \n",
            "_________________________________________________________________\n",
            "block4_conv2 (Conv2D)        (None, None, None, 512)   2359808   \n",
            "_________________________________________________________________\n",
            "block4_conv3 (Conv2D)        (None, None, None, 512)   2359808   \n",
            "_________________________________________________________________\n",
            "block4_pool (MaxPooling2D)   (None, None, None, 512)   0         \n",
            "_________________________________________________________________\n",
            "block5_conv1 (Conv2D)        (None, None, None, 512)   2359808   \n",
            "_________________________________________________________________\n",
            "block5_conv2 (Conv2D)        (None, None, None, 512)   2359808   \n",
            "_________________________________________________________________\n",
            "block5_conv3 (Conv2D)        (None, None, None, 512)   2359808   \n",
            "_________________________________________________________________\n",
            "block5_pool (MaxPooling2D)   (None, None, None, 512)   0         \n",
            "_________________________________________________________________\n",
            "global_average_pooling2d_3 ( (None, 512)               0         \n",
            "_________________________________________________________________\n",
            "dense_6 (Dense)              (None, 1024)              525312    \n",
            "_________________________________________________________________\n",
            "dense_7 (Dense)              (None, 114)               116850    \n",
            "=================================================================\n",
            "Total params: 15,356,850\n",
            "Trainable params: 15,356,850\n",
            "Non-trainable params: 0\n",
            "_________________________________________________________________\n"
          ],
          "name": "stdout"
        }
      ]
    },
    {
      "cell_type": "code",
      "metadata": {
        "colab": {
          "base_uri": "https://localhost:8080/"
        },
        "id": "7yUp3H1NFvkb",
        "outputId": "7ae7768d-e88c-465f-943b-cfa15692c914"
      },
      "source": [
        "print(history.history.keys())"
      ],
      "execution_count": null,
      "outputs": [
        {
          "output_type": "stream",
          "text": [
            "dict_keys(['loss', 'accuracy', 'val_loss', 'val_accuracy'])\n"
          ],
          "name": "stdout"
        }
      ]
    },
    {
      "cell_type": "code",
      "metadata": {
        "colab": {
          "base_uri": "https://localhost:8080/",
          "height": 498
        },
        "id": "tN8P1G0rEID6",
        "outputId": "51fe2b37-275c-404f-a475-d1b0bca09a11"
      },
      "source": [
        "acc = history.history['accuracy']\n",
        "val_acc = history.history['val_accuracy']\n",
        "\n",
        "loss = history.history['loss']\n",
        "val_loss = history.history['val_loss']\n",
        "\n",
        "epochs_range = range(2)\n",
        "\n",
        "plt.figure(figsize=(8, 8))\n",
        "plt.subplot(1, 2, 1)\n",
        "plt.plot(epochs_range, acc, label='Training Accuracy')\n",
        "plt.plot(epochs_range, val_acc, label='Validation Accuracy')\n",
        "plt.legend(loc='lower right')\n",
        "plt.title('Training and Validation Accuracy')\n",
        "\n",
        "plt.subplot(1, 2, 2)\n",
        "plt.plot(epochs_range, loss, label='Training Loss')\n",
        "plt.plot(epochs_range, val_loss, label='Validation Loss')\n",
        "plt.legend(loc='upper right')\n",
        "plt.title('Training and Validation Loss')\n",
        "plt.show()"
      ],
      "execution_count": null,
      "outputs": [
        {
          "output_type": "display_data",
          "data": {
            "image/png": "[encoded data removed]",
            "text/plain": [
              "<Figure size 576x576 with 2 Axes>"
            ]
          },
          "metadata": {
            "tags": [],
            "needs_background": "light"
          }
        }
      ]
    },
    {
      "cell_type": "code",
      "metadata": {
        "colab": {
          "base_uri": "https://localhost:8080/"
        },
        "id": "fMzUi_a2XlEE",
        "outputId": "d66b2027-dfce-4385-c3b0-db8a609da21b"
      },
      "source": [
        "model.evaluate(x_test, test_targets)"
      ],
      "execution_count": null,
      "outputs": [
        {
          "output_type": "stream",
          "text": [
            "36/36 [==============================] - 5s 142ms/step - loss: 3.8022 - accuracy: 0.1553\n"
          ],
          "name": "stdout"
        },
        {
          "output_type": "execute_result",
          "data": {
            "text/plain": [
              "[3.8022327423095703, 0.15526315569877625]"
            ]
          },
          "metadata": {
            "tags": []
          },
          "execution_count": 68
        }
      ]
    },
    {
      "cell_type": "code",
      "metadata": {
        "colab": {
          "base_uri": "https://localhost:8080/"
        },
        "id": "jFJcvCr5XqZ2",
        "outputId": "310ec404-4147-4a77-f43a-e8b923b76d30"
      },
      "source": [
        "test_image_path = projDir + 'dog_breed_classification/app/static/images/test_image.jpg'\n",
        "%ls $test_image_path"
      ],
      "execution_count": null,
      "outputs": [
        {
          "output_type": "stream",
          "text": [
            "/content/drive/MyDrive/github_projects/dog_breed_classification/app/static/images/test_image.jpg\n"
          ],
          "name": "stdout"
        }
      ]
    },
    {
      "cell_type": "code",
      "metadata": {
        "id": "QZ__AOUGZA4w"
      },
      "source": [
        "def classify_image(img_path, model, top=3):\n",
        "    \"\"\"Example from Keras of how to classify single image with ResNet50.\"\"\"\n",
        "\n",
        "    # model = VGG16(weights='imagenet')\n",
        "\n",
        "    img = image.load_img(img_path, target_size=(224, 224))\n",
        "\n",
        "    x = image.img_to_array(img)\n",
        "    x = np.expand_dims(x, axis=0)\n",
        "    x = preprocess_input(x)\n",
        "\n",
        "    features = model.predict(x)[0]\n",
        "    \n",
        "    top_indices = features.argsort()[-top:][::-1]\n",
        "    results = [{\"breed\": categories[str(i)], \"percentage\": '{:.2f}'.format(features[i] * 100.0)} for i in top_indices]\n",
        "    return results"
      ],
      "execution_count": null,
      "outputs": []
    },
    {
      "cell_type": "code",
      "metadata": {
        "id": "jJUj79saiuZd",
        "colab": {
          "base_uri": "https://localhost:8080/"
        },
        "outputId": "ff93ca17-76f5-424f-d5c7-9aea0be9e701"
      },
      "source": [
        "results = classify_image(test_image_path, model)\n",
        "results"
      ],
      "execution_count": null,
      "outputs": [
        {
          "output_type": "execute_result",
          "data": {
            "text/plain": [
              "[{'breed': 'border_terrier', 'percentage': '100.00'},\n",
              " {'breed': 'english_setter', 'percentage': '0.00'},\n",
              " {'breed': 'cocker_spaniel', 'percentage': '0.00'}]"
            ]
          },
          "metadata": {
            "tags": []
          },
          "execution_count": 71
        }
      ]
    },
    {
      "cell_type": "code",
      "metadata": {
        "id": "VIwy1EIi9uMu"
      },
      "source": [
        ""
      ],
      "execution_count": null,
      "outputs": []
    },
    {
      "cell_type": "markdown",
      "metadata": {
        "id": "SGUJhLAOUGFG"
      },
      "source": [
        "# Compute accuracy of VGG16 model with test images."
      ]
    },
    {
      "cell_type": "code",
      "metadata": {
        "id": "dsOmnW_MULSq"
      },
      "source": [
        "from tensorflow.keras.applications.vgg16 import VGG16\n",
        "from tensorflow.keras.applications.resnet50 import preprocess_input, decode_predictions\n",
        "from tensorflow.keras.preprocessing import image\n",
        "\n",
        "import numpy as np"
      ],
      "execution_count": null,
      "outputs": []
    },
    {
      "cell_type": "code",
      "metadata": {
        "id": "bZfZH--uUL49"
      },
      "source": [
        "projDir = '/content/drive/MyDrive/github_projects/'\n",
        "test_image_path = projDir + 'dog_breed_classification/app/static/images/test_image.jpg'"
      ],
      "execution_count": null,
      "outputs": []
    },
    {
      "cell_type": "code",
      "metadata": {
        "colab": {
          "base_uri": "https://localhost:8080/"
        },
        "id": "pCoQWCs-UU2p",
        "outputId": "0caecec6-a536-4e1c-d0bf-26bf0a8e95a3"
      },
      "source": [
        "%ls $projDir"
      ],
      "execution_count": null,
      "outputs": [
        {
          "output_type": "stream",
          "text": [
            "\u001b[0m\u001b[01;34mairbnb_seatle\u001b[0m/  \u001b[01;34mapp\u001b[0m/  \u001b[01;34mdog_breed_classification\u001b[0m/  \u001b[01;34mminiconda\u001b[0m/  README.md\n"
          ],
          "name": "stdout"
        }
      ]
    },
    {
      "cell_type": "code",
      "metadata": {
        "id": "Ga7fblo7Uheo"
      },
      "source": [
        "def classify_image_vgg16(img_path, model):\n",
        "    \"\"\"Example from Keras of how to classify single image with ResNet50.\"\"\"\n",
        "\n",
        "    img = image.load_img(img_path, target_size=(224, 224))\n",
        "    x = image.img_to_array(img)\n",
        "    x = np.expand_dims(x, axis=0)\n",
        "    x = preprocess_input(x)\n",
        "\n",
        "    features = model.predict(x)\n",
        "    # print('Predicted:', decode_predictions(features, top=3)[0])\n",
        "    results = decode_predictions(features, top=3)\n",
        "    results = [{\"breed\": res[1], 'percentage': '({:.2f} %)'.format(res[2] * 100.0)} for res in results[0]]\n",
        "    for res in results: print(res)\n"
      ],
      "execution_count": null,
      "outputs": []
    },
    {
      "cell_type": "code",
      "metadata": {
        "id": "I9OnPokrVg1x",
        "colab": {
          "base_uri": "https://localhost:8080/"
        },
        "outputId": "0b10e2f8-1f13-4790-be8f-8257690ea84c"
      },
      "source": [
        "model = VGG16(weights='imagenet')"
      ],
      "execution_count": null,
      "outputs": [
        {
          "output_type": "stream",
          "text": [
            "Downloading data from https://storage.googleapis.com/tensorflow/keras-applications/vgg16/vgg16_weights_tf_dim_ordering_tf_kernels.h5\n",
            "553467904/553467096 [==============================] - 3s 0us/step\n"
          ],
          "name": "stdout"
        }
      ]
    },
    {
      "cell_type": "code",
      "metadata": {
        "colab": {
          "base_uri": "https://localhost:8080/"
        },
        "id": "GnPvBaH0XAAr",
        "outputId": "de6b1c54-9e73-4e3c-8f1b-7012a3df554d"
      },
      "source": [
        "classify_image_vgg16(test_image_path, model)"
      ],
      "execution_count": null,
      "outputs": [
        {
          "output_type": "stream",
          "text": [
            "Downloading data from https://storage.googleapis.com/download.tensorflow.org/data/imagenet_class_index.json\n",
            "40960/35363 [==================================] - 0s 0us/step\n",
            "{'breed': 'golden_retriever', 'percentage': '(70.57 %)'}\n",
            "{'breed': 'Labrador_retriever', 'percentage': '(29.15 %)'}\n",
            "{'breed': 'kuvasz', 'percentage': '(0.07 %)'}\n"
          ],
          "name": "stdout"
        }
      ]
    },
    {
      "cell_type": "code",
      "metadata": {
        "id": "f5zxKrumK9Gy"
      },
      "source": [
        ""
      ],
      "execution_count": null,
      "outputs": []
    },
    {
      "cell_type": "code",
      "metadata": {
        "id": "yNKMyL22LGzH"
      },
      "source": [
        "model.compile(optimizer=SGD(lr=0.0001, momentum=0.9), loss='categorical_crossentropy', metrics=['accuracy'])\n"
      ],
      "execution_count": null,
      "outputs": []
    },
    {
      "cell_type": "code",
      "metadata": {
        "id": "xiloe9cZMSIL"
      },
      "source": [
        "from sklearn.metrics import classification_report"
      ],
      "execution_count": null,
      "outputs": []
    },
    {
      "cell_type": "code",
      "metadata": {
        "id": "H3GJvcTaK57H"
      },
      "source": [
        "# model.evaluate(x_test, test_targets)\n",
        "predictions = model.predict(x_test, batch_size=32)"
      ],
      "execution_count": null,
      "outputs": []
    },
    {
      "cell_type": "code",
      "metadata": {
        "colab": {
          "base_uri": "https://localhost:8080/"
        },
        "id": "g4wG_w6AM5Zt",
        "outputId": "cad2457c-cad9-432f-867b-5825b488dc34"
      },
      "source": [
        "dog_breeds = list(categories.values())\n",
        "print(len(dog_breeds))\n",
        "print(x_test.shape)\n",
        "print(predictions.shape)\n",
        "print(test_targets.shape)"
      ],
      "execution_count": null,
      "outputs": [
        {
          "output_type": "stream",
          "text": [
            "114\n",
            "(1140, 224, 224, 3)\n",
            "(1140, 1000)\n",
            "(1140, 114)\n"
          ],
          "name": "stdout"
        }
      ]
    },
    {
      "cell_type": "code",
      "metadata": {
        "colab": {
          "base_uri": "https://localhost:8080/"
        },
        "id": "-cZpzEFBMUrq",
        "outputId": "195970ca-a631-4f37-9f49-42c72bfb004d"
      },
      "source": [
        "model.summary()"
      ],
      "execution_count": null,
      "outputs": [
        {
          "output_type": "stream",
          "text": [
            "Model: \"vgg16\"\n",
            "_________________________________________________________________\n",
            "Layer (type)                 Output Shape              Param #   \n",
            "=================================================================\n",
            "input_5 (InputLayer)         [(None, 224, 224, 3)]     0         \n",
            "_________________________________________________________________\n",
            "block1_conv1 (Conv2D)        (None, 224, 224, 64)      1792      \n",
            "_________________________________________________________________\n",
            "block1_conv2 (Conv2D)        (None, 224, 224, 64)      36928     \n",
            "_________________________________________________________________\n",
            "block1_pool (MaxPooling2D)   (None, 112, 112, 64)      0         \n",
            "_________________________________________________________________\n",
            "block2_conv1 (Conv2D)        (None, 112, 112, 128)     73856     \n",
            "_________________________________________________________________\n",
            "block2_conv2 (Conv2D)        (None, 112, 112, 128)     147584    \n",
            "_________________________________________________________________\n",
            "block2_pool (MaxPooling2D)   (None, 56, 56, 128)       0         \n",
            "_________________________________________________________________\n",
            "block3_conv1 (Conv2D)        (None, 56, 56, 256)       295168    \n",
            "_________________________________________________________________\n",
            "block3_conv2 (Conv2D)        (None, 56, 56, 256)       590080    \n",
            "_________________________________________________________________\n",
            "block3_conv3 (Conv2D)        (None, 56, 56, 256)       590080    \n",
            "_________________________________________________________________\n",
            "block3_pool (MaxPooling2D)   (None, 28, 28, 256)       0         \n",
            "_________________________________________________________________\n",
            "block4_conv1 (Conv2D)        (None, 28, 28, 512)       1180160   \n",
            "_________________________________________________________________\n",
            "block4_conv2 (Conv2D)        (None, 28, 28, 512)       2359808   \n",
            "_________________________________________________________________\n",
            "block4_conv3 (Conv2D)        (None, 28, 28, 512)       2359808   \n",
            "_________________________________________________________________\n",
            "block4_pool (MaxPooling2D)   (None, 14, 14, 512)       0         \n",
            "_________________________________________________________________\n",
            "block5_conv1 (Conv2D)        (None, 14, 14, 512)       2359808   \n",
            "_________________________________________________________________\n",
            "block5_conv2 (Conv2D)        (None, 14, 14, 512)       2359808   \n",
            "_________________________________________________________________\n",
            "block5_conv3 (Conv2D)        (None, 14, 14, 512)       2359808   \n",
            "_________________________________________________________________\n",
            "block5_pool (MaxPooling2D)   (None, 7, 7, 512)         0         \n",
            "_________________________________________________________________\n",
            "flatten (Flatten)            (None, 25088)             0         \n",
            "_________________________________________________________________\n",
            "fc1 (Dense)                  (None, 4096)              102764544 \n",
            "_________________________________________________________________\n",
            "fc2 (Dense)                  (None, 4096)              16781312  \n",
            "_________________________________________________________________\n",
            "predictions (Dense)          (None, 1000)              4097000   \n",
            "=================================================================\n",
            "Total params: 138,357,544\n",
            "Trainable params: 138,357,544\n",
            "Non-trainable params: 0\n",
            "_________________________________________________________________\n"
          ],
          "name": "stdout"
        }
      ]
    }
  ]
}